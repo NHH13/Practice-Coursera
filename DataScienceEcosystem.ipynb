{
 "cells": [
  {
   "cell_type": "markdown",
   "id": "09cc2d86",
   "metadata": {},
   "source": [
    "# Data Science Tools and Ecosystem"
   ]
  },
  {
   "cell_type": "markdown",
   "id": "3aae8cab",
   "metadata": {},
   "source": [
    "**In this notebook, Data Science Tools and Ecosystem are summarized.**"
   ]
  },
  {
   "cell_type": "markdown",
   "id": "1fb70404",
   "metadata": {},
   "source": [
    "**Objectives:**"
   ]
  },
  {
   "cell_type": "markdown",
   "id": "422b1603",
   "metadata": {},
   "source": [
    " +Some of the popular languages that Data Scientists use  \n",
    " +Some of the commonly used libraries used by Data Scientists  \n",
    " +Data Science Tools  "
   ]
  },
  {
   "cell_type": "markdown",
   "id": "9f331158",
   "metadata": {},
   "source": [
    "1.Some of the popular languages that Data Scientists use are:  \n",
    "\n",
    "1-__*Python*__  \n",
    "2-__*R*__  \n",
    "3-__*Scala*__  \n",
    "4-__*SQL*__  \n",
    "5-__*C/C++*__  \n",
    "6-__*Java*__  \n",
    "  \n",
    "There are more languages but this ones are the main languagues.  "
   ]
  },
  {
   "cell_type": "markdown",
   "id": "96ea1c25",
   "metadata": {},
   "source": [
    "2.Some of the commonly used libraries used by Data Scientists include:  \n",
    "\n",
    "1-__*Pandas*__    \n",
    "2-__*NumPy*__  \n",
    "3-__*Matplotlib & Seaborn*__    \n",
    "4-__*Scikit Learn*__  "
   ]
  },
  {
   "cell_type": "markdown",
   "id": "30f4d709",
   "metadata": {},
   "source": [
    "4.Data Science Tools.  \n",
    "  \n",
    " |Data Science Tools|\n",
    " |------------------| \n",
    " |Tensorflow |\n",
    " |Anaconda |\n",
    " |Keras | \n",
    "  "
   ]
  },
  {
   "cell_type": "markdown",
   "id": "03f062cb",
   "metadata": {},
   "source": [
    "### Below are a few examples of evaluating arithmetic expressions in Python"
   ]
  },
  {
   "cell_type": "code",
   "execution_count": 6,
   "id": "d7a816d4",
   "metadata": {},
   "outputs": [
    {
     "data": {
      "text/plain": [
       "17"
      ]
     },
     "execution_count": 6,
     "metadata": {},
     "output_type": "execute_result"
    }
   ],
   "source": [
    "\"This a simple arithmetic expression to mutiply then add integers\"  \n",
    "(3*4)+5"
   ]
  },
  {
   "cell_type": "code",
   "execution_count": 7,
   "id": "c3b157e6",
   "metadata": {},
   "outputs": [
    {
     "data": {
      "text/plain": [
       "3.3333333333333335"
      ]
     },
     "execution_count": 7,
     "metadata": {},
     "output_type": "execute_result"
    }
   ],
   "source": [
    "\"This will convert 200 minutes to hours by diving by 60\"  \n",
    "200/60"
   ]
  },
  {
   "cell_type": "markdown",
   "id": "fbe54fec",
   "metadata": {},
   "source": [
    "## Author  \n"
   ]
  },
  {
   "cell_type": "markdown",
   "id": "5ffafe4b",
   "metadata": {},
   "source": [
    "Naim Hariri Hernandez."
   ]
  }
 ],
 "metadata": {
  "kernelspec": {
   "display_name": "Python 3 (ipykernel)",
   "language": "python",
   "name": "python3"
  },
  "language_info": {
   "codemirror_mode": {
    "name": "ipython",
    "version": 3
   },
   "file_extension": ".py",
   "mimetype": "text/x-python",
   "name": "python",
   "nbconvert_exporter": "python",
   "pygments_lexer": "ipython3",
   "version": "3.9.13"
  }
 },
 "nbformat": 4,
 "nbformat_minor": 5
}
