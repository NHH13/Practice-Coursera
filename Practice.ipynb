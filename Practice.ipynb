{
 "cells": [
  {
   "cell_type": "markdown",
   "metadata": {},
   "source": [
    "# My Jupyter Notebook on IBM Watson Studio"
   ]
  },
  {
   "cell_type": "markdown",
   "metadata": {},
   "source": [
    "### **Naim Hariri Hernández**\n",
    "I wish to be a data scientist"
   ]
  },
  {
   "cell_type": "markdown",
   "metadata": {},
   "source": [
    "_I am interested in data science because, I want to do analysis on the environment to improve the world_"
   ]
  },
  {
   "cell_type": "markdown",
   "metadata": {},
   "source": [
    "### this code multiplies"
   ]
  },
  {
   "cell_type": "code",
   "execution_count": 8,
   "metadata": {},
   "outputs": [
    {
     "data": {
      "text/plain": [
       "10"
      ]
     },
     "execution_count": 8,
     "metadata": {},
     "output_type": "execute_result"
    }
   ],
   "source": [
    "2*5"
   ]
  },
  {
   "cell_type": "markdown",
   "metadata": {},
   "source": [
    "[practice references] (https://github.com/adam-p/markdown-here/wiki/Markdown-Cheatsheet)  \n",
    "tables | are | Cool\n",
    "--- | --- | ---\n",
    "*Cursive* | `color` | **black cursive**\n",
    "1 | 2 | 3  \n",
    "4 | 5 | 6  \n",
    "  \n",
    "My First  \n",
    "\n",
    "***\n",
    "\n",
    "Jupyter  \n",
    "\n",
    "***\n",
    "\n",
    "Notebook  \n",
    "\n",
    "***\n"
   ]
  }
 ],
 "metadata": {
  "kernelspec": {
   "display_name": "Python 3.10",
   "language": "python",
   "name": "python3"
  },
  "language_info": {
   "codemirror_mode": {
    "name": "ipython",
    "version": 3
   },
   "file_extension": ".py",
   "mimetype": "text/x-python",
   "name": "python",
   "nbconvert_exporter": "python",
   "pygments_lexer": "ipython3",
   "version": "3.10.9"
  }
 },
 "nbformat": 4,
 "nbformat_minor": 1
}
